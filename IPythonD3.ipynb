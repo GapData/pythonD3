{
 "cells": [
  {
   "cell_type": "markdown",
   "metadata": {},
   "source": [
    "# IPython & D3\n",
    "Let's start with a few techniques for working with data in ipython and then build a d3 network graph. "
   ]
  },
  {
   "cell_type": "code",
   "execution_count": 1,
   "metadata": {
    "collapsed": false
   },
   "outputs": [
    {
     "name": "stdout",
     "output_type": "stream",
     "text": [
      "Loading required package: stats\n",
      "Find out what's changed in ggplot2 with\n",
      "news(Version == \"1.0.1\", package = \"ggplot2\")\n",
      "Loading required package: DBI\n",
      "Loading required package: rJava\n",
      "Error in .jcall(drv@jdrv, \"Ljava/sql/Connection;\", \"connect\", as.character(url)[1],  : \n",
      "  java.sql.SQLException: [Vertica][VJDBC](100176) Failed to connect to host localhost on port 5434. Reason: Connection refused\n"
     ]
    }
   ],
   "source": [
    "# import requirments \n",
    "from IPython.display import Image\n",
    "from IPython.display import display\n",
    "from IPython.display import HTML\n",
    "from datetime import *\n",
    "import json\n",
    "from copy import *\n",
    "from pprint import *\n",
    "import pandas as pd\n",
    "import numpy as np\n",
    "import matplotlib.pyplot as plt\n",
    "import json\n",
    "from ggplot import *\n",
    "import networkx as nx\n",
    "from networkx.readwrite import json_graph\n",
    "#from __future__ import http_server\n",
    "from BaseHTTPServer import BaseHTTPRequestHandler\n",
    "from IPython.display import IFrame\n",
    "import rpy2\n",
    "%load_ext rpy2.ipython\n",
    "%R require(\"ggplot2\")\n",
    "% matplotlib inline\n",
    "randn = np.random.randn"
   ]
  },
  {
   "cell_type": "markdown",
   "metadata": {},
   "source": [
    "### JS with IPython?\n",
    "The nice thing about ipython is that we can write in almost any lanaguage. For example, we can use javascript below and pull in the D3 library."
   ]
  },
  {
   "cell_type": "code",
   "execution_count": 2,
   "metadata": {
    "collapsed": false
   },
   "outputs": [
    {
     "data": {
      "application/javascript": [
       "require.config({\n",
       "    paths: {\n",
       "        //d3: \"http://d3js.org/d3.v3.min\" //<-- url \n",
       "        d3: 'd3/d3.min.js' //<-- local path \n",
       "    }\n",
       "});"
      ],
      "text/plain": [
       "<IPython.core.display.Javascript object>"
      ]
     },
     "metadata": {},
     "output_type": "display_data"
    }
   ],
   "source": [
    "%%javascript\n",
    "require.config({\n",
    "    paths: {\n",
    "        //d3: \"http://d3js.org/d3.v3.min\" //<-- url \n",
    "        d3: 'd3/d3.min.js' //<-- local path \n",
    "    }\n",
    "});"
   ]
  },
  {
   "cell_type": "markdown",
   "metadata": {},
   "source": [
    "### Python data | D3 Viz\n",
    "A basic method is to serialze your results and then render html that pulls in the data. In this example, we save a json file and then load the html doc in an IFrame. We're now using D3 in ipython!  \n",
    "\n",
    "The example below is adapted from: \n",
    "* Hagberg, A & Schult, D. & Swart, P. Networkx (2011). Github repository, https://github.com/networkx/networkx/tree/master/examples/javascript/force"
   ]
  },
  {
   "cell_type": "code",
   "execution_count": 3,
   "metadata": {
    "collapsed": false
   },
   "outputs": [
    {
     "data": {
      "text/html": [
       "\n",
       "        <iframe\n",
       "            width=\"700\"\n",
       "            height=\"350\"\n",
       "            src=\"force/force.html\"\n",
       "            frameborder=\"0\"\n",
       "            allowfullscreen\n",
       "        ></iframe>\n",
       "        "
      ],
      "text/plain": [
       "<IPython.lib.display.IFrame at 0x11978ee90>"
      ]
     },
     "execution_count": 3,
     "metadata": {},
     "output_type": "execute_result"
    }
   ],
   "source": [
    "import json\n",
    "import networkx as nx\n",
    "from networkx.readwrite import json_graph\n",
    "from IPython.display import IFrame\n",
    "\n",
    "\n",
    "G = nx.barbell_graph(6,3)\n",
    "# this d3 example uses the name attribute for the mouse-hover value,\n",
    "# so add a name to each node\n",
    "for n in G:\n",
    "    G.node[n]['name'] = n\n",
    "\n",
    "# write json formatted data\n",
    "d = json_graph.node_link_data(G) # node-link format to serialize\n",
    "\n",
    "# write json\n",
    "json.dump(d, open('force/force.json','w'))\n",
    "\n",
    "# render html inline\n",
    "IFrame('force/force.html', width=700, height=350)\n",
    "#print('Or copy all files in force/ to webserver and load force/force.html')"
   ]
  },
  {
   "cell_type": "markdown",
   "metadata": {},
   "source": [
    "### Passing data from IPython to JS\n",
    "Let's create some random numbers and render them in js (see the [stackoverflow explanation](http://stackoverflow.com/questions/26207668/how-to-use-python-defined-variables-in-javascript-code-within-ipython-notebook) and discussion)."
   ]
  },
  {
   "cell_type": "code",
   "execution_count": 4,
   "metadata": {
    "collapsed": false
   },
   "outputs": [
    {
     "data": {
      "application/javascript": [
       "element.append(\"[ 0.36187027  0.23279716  0.18712606 -0.2124667 ]\");"
      ],
      "text/plain": [
       "<IPython.core.display.Javascript object>"
      ]
     },
     "execution_count": 4,
     "metadata": {},
     "output_type": "execute_result"
    }
   ],
   "source": [
    "from IPython.display import Javascript\n",
    "\n",
    "import numpy as np\n",
    "mu, sig = 0.05, 0.2\n",
    "rnd = np.random.normal(loc=mu, scale=sig, size=4)\n",
    "\n",
    "## Use the variable rnd above in Javascript:\n",
    "\n",
    "javascript = 'element.append(\"{}\");'.format(str(rnd))\n",
    "\n",
    "Javascript(javascript)"
   ]
  },
  {
   "cell_type": "markdown",
   "metadata": {},
   "source": [
    "### Passing data from JS to IPython\n",
    "We can also interact with js to define python variables (see [this example](https://jakevdp.github.io/blog/2013/06/01/ipython-notebook-javascript-python-communication/)).\n",
    "\n"
   ]
  },
  {
   "cell_type": "code",
   "execution_count": 5,
   "metadata": {
    "collapsed": false
   },
   "outputs": [
    {
     "data": {
      "text/html": [
       "\n",
       "<div style=\"background-color:gainsboro; border:solid black; width:300px; padding:20px;\">\n",
       "Name: <input type=\"text\" id=\"var_name\" value=\"foo\"><br>\n",
       "Value: <input type=\"text\" id=\"var_value\" value=\"bar\"><br>\n",
       "<button onclick=\"set_value()\">Set Value</button>\n",
       "</div>\n",
       "\n",
       "<script type=\"text/Javascript\">\n",
       "    function set_value(){\n",
       "        var var_name = document.getElementById('var_name').value;\n",
       "        var var_value = document.getElementById('var_value').value;\n",
       "        var command = var_name + \" = '\" + var_value + \"'\";\n",
       "        console.log(\"Executing Command: \" + command);\n",
       "        \n",
       "        var kernel = IPython.notebook.kernel;\n",
       "        kernel.execute(command);\n",
       "    }\n",
       "</script>\n"
      ],
      "text/plain": [
       "<IPython.core.display.HTML object>"
      ]
     },
     "execution_count": 5,
     "metadata": {},
     "output_type": "execute_result"
    }
   ],
   "source": [
    "from IPython.display import HTML\n",
    "\n",
    "input_form = \"\"\"\n",
    "<div style=\"background-color:gainsboro; border:solid black; width:300px; padding:20px;\">\n",
    "Name: <input type=\"text\" id=\"var_name\" value=\"foo\"><br>\n",
    "Value: <input type=\"text\" id=\"var_value\" value=\"bar\"><br>\n",
    "<button onclick=\"set_value()\">Set Value</button>\n",
    "</div>\n",
    "\"\"\"\n",
    "\n",
    "javascript = \"\"\"\n",
    "<script type=\"text/Javascript\">\n",
    "    function set_value(){\n",
    "        var var_name = document.getElementById('var_name').value;\n",
    "        var var_value = document.getElementById('var_value').value;\n",
    "        var command = var_name + \" = '\" + var_value + \"'\";\n",
    "        console.log(\"Executing Command: \" + command);\n",
    "        \n",
    "        var kernel = IPython.notebook.kernel;\n",
    "        kernel.execute(command);\n",
    "    }\n",
    "</script>\n",
    "\"\"\"\n",
    "\n",
    "HTML(input_form + javascript)"
   ]
  },
  {
   "cell_type": "markdown",
   "metadata": {},
   "source": [
    "Click \"Set Value\" then run the cell below."
   ]
  },
  {
   "cell_type": "code",
   "execution_count": 7,
   "metadata": {
    "collapsed": false
   },
   "outputs": [
    {
     "name": "stdout",
     "output_type": "stream",
     "text": [
      "bar\n"
     ]
    }
   ],
   "source": [
    "print foo"
   ]
  },
  {
   "cell_type": "markdown",
   "metadata": {
    "collapsed": false
   },
   "source": [
    "### Custom D3 module.\n",
    "Now we're having fun. The simplicity of this process wins. We can pass data to javascript via a module called visualize that contains an attribute `plot_circle`, which uses jinja to render our js template. The advantage of using jinja to read our html is apparent: we can pass variables directly from python!"
   ]
  },
  {
   "cell_type": "code",
   "execution_count": 11,
   "metadata": {
    "collapsed": false
   },
   "outputs": [
    {
     "data": {
      "text/html": [
       "<style>\n",
       "\n",
       ".overlay {\n",
       "  fill: none;\n",
       "  pointer-events: all;\n",
       "}\n",
       "\n",
       "</style>\n",
       "<div id=\"graph_1\"></div>\n",
       "\n",
       "<script type=\"text/javascript\">\n",
       "\n",
       "graph_1 = function(){\n",
       "\n",
       "var margin = {top: 50, right: 20, bottom: 50, left:20},\n",
       "    width = 700 - margin.left - margin.right,\n",
       "    height = 500 - margin.top - margin.bottom;\n",
       "\n",
       "var svg_1 = d3.select(\"#graph_1\").append(\"svg\")\n",
       "    .attr(\"width\", width + margin.left + margin.right)\n",
       "    .attr(\"height\", height + margin.top + margin.bottom)\n",
       "    .append(\"g\")\n",
       "    .call(d3.behavior.zoom().scaleExtent([0.75, 8]).on(\"zoom\", zoom_1))\n",
       "    .append(\"g\");\n",
       "\n",
       "svg_1.append(\"rect\")\n",
       "    .attr(\"class\", \"overlay\")\n",
       "    .attr(\"width\", width + margin.left + margin.right)\n",
       "    .attr(\"height\", height + margin.top + margin.bottom);\n",
       "\n",
       "    draw = function(nodes, svg){\n",
       "\n",
       "    var x_scale = d3.scale.linear()\n",
       "                    .domain([d3.min(nodes, function(d){ return d['x'];}), \n",
       "                             d3.max(nodes, function(d){ return d['x'];})])\n",
       "                    .range([0, width]);\n",
       "\n",
       "    var y_scale = d3.scale.linear()\n",
       "                    .domain([d3.min(nodes, function(d){ return d['y'];}), \n",
       "                             d3.max(nodes, function(d){ return d['y'];})])\n",
       "                    .range([height, 0]);\n",
       "\n",
       "    svg.selectAll(\"circle\")\n",
       "       .data(nodes)\n",
       "       .enter()\n",
       "       .append(\"circle\")\n",
       "       .attr(\"cx\", function(d) { return x_scale(d['x']); })\n",
       "       .attr(\"cy\", function(d) { return y_scale(d['y']); })\n",
       "       .attr(\"r\",  function(d) { return d['r']; })\n",
       "       .attr(\"fill\", \"red\")\n",
       "       .attr(\"stroke-width\",  0.25)\n",
       "       .attr(\"stroke\",  \"#d3d3d3\");\n",
       "\n",
       "    svg.selectAll(\"text\")\n",
       "       .data(nodes)\n",
       "       .enter()\n",
       "       .append(\"text\")\n",
       "       .attr(\"x\", function(d) { return x_scale(d['x']); })\n",
       "       .attr(\"y\", function(d) { return y_scale(d['y']); })\n",
       "       .attr(\"dy\", \".55em\")\n",
       "       .text(function(d){ return d['name']; });\n",
       "\n",
       "    }\n",
       "\n",
       "    var nodes_1 = [{\"y\": 20, \"x\": 10, \"r\": 15, \"name\": \"circle one\"}, {\"y\": 40, \"x\": 40, \"r\": 5, \"name\": \"circle two\"}, {\"y\": 30, \"x\": 20, \"r\": 8, \"name\": \"circle three\"}, {\"y\": 10, \"x\": 25, \"r\": 10, \"name\": \"circle four\"}];\n",
       "\n",
       "    draw(nodes_1, svg_1);\n",
       "\n",
       "    function zoom_1() {\n",
       "      svg_1.attr(\"transform\", \"translate(\" + d3.event.translate + \")scale(\" + d3.event.scale + \")\");\n",
       "    }\n",
       "\n",
       "}\n",
       "\n",
       "function load_lib(url, callback){\n",
       "  var s = document.createElement('script');\n",
       "  s.src = url;\n",
       "  s.async = true;\n",
       "  s.onreadystatechange = s.onload = callback;\n",
       "  s.onerror = function(){console.warn(\"failed to load library \" + url);};\n",
       "  document.getElementsByTagName(\"head\")[0].appendChild(s);\n",
       "}\n",
       "\n",
       "if ( typeof(d3) !== \"undefined\" ){\n",
       "    console.log('d3 is defined');\n",
       "    graph_1();\n",
       "}else if(typeof define === \"function\" && define.amd){\n",
       "  console.log('trying d3 with require');\n",
       "  require.config({paths: {d3: \"./d3/d3.v3.min\"}});\n",
       "      console.log('trying ./d3/d3.v3.min');\n",
       "      require([\"d3\"], function(d3){\n",
       "        window.d3 = d3;\n",
       "        console.log('loaded d3 with require');\n",
       "        graph_1();\n",
       "  });\n",
       "}else{\n",
       "    consle.log('trying to load from load_lib');\n",
       "    load_lib(\"http://d3js.org/d3.v3.min.js\", graph_1());\n",
       "}\n",
       "\n",
       "</script>\n"
      ],
      "text/plain": [
       "<IPython.core.display.HTML object>"
      ]
     },
     "metadata": {},
     "output_type": "display_data"
    }
   ],
   "source": [
    "from pythonD3 import visualize\n",
    "data = [{'x': 10, 'y': 20, 'r': 15, 'name': 'circle one'}, \n",
    "        {'x': 40, 'y': 40, 'r': 5, 'name': 'circle two'},\n",
    "        {'x': 20, 'y': 30, 'r': 8, 'name': 'circle three'},\n",
    "        {'x': 25, 'y': 10, 'r': 10, 'name': 'circle four'}]\n",
    "\n",
    "visualize.plot_circle(data, id=1)"
   ]
  },
  {
   "cell_type": "markdown",
   "metadata": {
    "collapsed": true
   },
   "source": [
    "**Now we just need to learn how to write useful javacript!**\n",
    "(Enter Jason)"
   ]
  },
  {
   "cell_type": "code",
   "execution_count": null,
   "metadata": {
    "collapsed": true
   },
   "outputs": [],
   "source": []
  },
  {
   "cell_type": "code",
   "execution_count": null,
   "metadata": {
    "collapsed": false
   },
   "outputs": [],
   "source": []
  },
  {
   "cell_type": "code",
   "execution_count": null,
   "metadata": {
    "collapsed": false
   },
   "outputs": [],
   "source": []
  },
  {
   "cell_type": "code",
   "execution_count": null,
   "metadata": {
    "collapsed": false
   },
   "outputs": [],
   "source": []
  },
  {
   "cell_type": "code",
   "execution_count": null,
   "metadata": {
    "collapsed": false
   },
   "outputs": [],
   "source": []
  },
  {
   "cell_type": "code",
   "execution_count": null,
   "metadata": {
    "collapsed": true
   },
   "outputs": [],
   "source": []
  }
 ],
 "metadata": {
  "kernelspec": {
   "display_name": "Python 2",
   "language": "python",
   "name": "python2"
  },
  "language_info": {
   "codemirror_mode": {
    "name": "ipython",
    "version": 2
   },
   "file_extension": ".py",
   "mimetype": "text/x-python",
   "name": "python",
   "nbconvert_exporter": "python",
   "pygments_lexer": "ipython2",
   "version": "2.7.10"
  }
 },
 "nbformat": 4,
 "nbformat_minor": 0
}
